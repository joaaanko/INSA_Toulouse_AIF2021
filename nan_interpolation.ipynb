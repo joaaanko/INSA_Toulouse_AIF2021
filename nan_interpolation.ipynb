{
 "cells": [
  {
   "cell_type": "markdown",
   "metadata": {},
   "source": [
    "# Inerpolating missing values for certain variables"
   ]
  },
  {
   "cell_type": "code",
   "execution_count": 10,
   "metadata": {},
   "outputs": [],
   "source": [
    "# essential imports for the notebook\n",
    "import os\n",
    "import numpy as np\n",
    "import pandas as pd\n",
    "import xarray as xr\n",
    "\n",
    "from cartopy import config\n",
    "import cartopy.feature as cfeature\n",
    "import cartopy.crs as ccrs\n",
    "from cartopy.mpl.geoaxes import GeoAxes\n",
    "import matplotlib.pyplot as plt\n",
    "from mpl_toolkits.axes_grid1 import AxesGrid\n",
    "from mpl_toolkits.axes_grid1 import ImageGrid\n",
    "import plotly.express as px\n",
    "\n",
    "from cartopy.mpl.ticker import LongitudeFormatter, LatitudeFormatter\n",
    "import matplotlib.pyplot as plt\n",
    "import utils\n",
    "# import scipy.cluster.hierarchy as sch"
   ]
  },
  {
   "cell_type": "code",
   "execution_count": 2,
   "metadata": {},
   "outputs": [],
   "source": [
    "path_X_station_train = \"./data/Train/X_station_train.csv\"\n",
    "path_Y_train = \"data./Train/Y_train.csv\"\n",
    "X_station_train = pd.read_csv(path_X_station_train, sep = \",\")\n",
    "Y_train = pd.read_csv(path_Y_train, sep = \",\")"
   ]
  },
  {
   "cell_type": "code",
   "execution_count": 3,
   "metadata": {},
   "outputs": [
    {
     "name": "stdout",
     "output_type": "stream",
     "text": [
      "(4409474, 9)\n"
     ]
    },
    {
     "data": {
      "text/html": [
       "<div>\n",
       "<style scoped>\n",
       "    .dataframe tbody tr th:only-of-type {\n",
       "        vertical-align: middle;\n",
       "    }\n",
       "\n",
       "    .dataframe tbody tr th {\n",
       "        vertical-align: top;\n",
       "    }\n",
       "\n",
       "    .dataframe thead th {\n",
       "        text-align: right;\n",
       "    }\n",
       "</style>\n",
       "<table border=\"1\" class=\"dataframe\">\n",
       "  <thead>\n",
       "    <tr style=\"text-align: right;\">\n",
       "      <th></th>\n",
       "      <th>number_sta</th>\n",
       "      <th>date</th>\n",
       "      <th>ff</th>\n",
       "      <th>t</th>\n",
       "      <th>td</th>\n",
       "      <th>hu</th>\n",
       "      <th>dd</th>\n",
       "      <th>precip</th>\n",
       "      <th>Id</th>\n",
       "    </tr>\n",
       "  </thead>\n",
       "  <tbody>\n",
       "    <tr>\n",
       "      <th>0</th>\n",
       "      <td>14066001</td>\n",
       "      <td>2016-01-01 00:00:00</td>\n",
       "      <td>3.05</td>\n",
       "      <td>279.28</td>\n",
       "      <td>277.97</td>\n",
       "      <td>91.4</td>\n",
       "      <td>200.0</td>\n",
       "      <td>0.0</td>\n",
       "      <td>14066001_0_0</td>\n",
       "    </tr>\n",
       "    <tr>\n",
       "      <th>1</th>\n",
       "      <td>14066001</td>\n",
       "      <td>2016-01-01 01:00:00</td>\n",
       "      <td>2.57</td>\n",
       "      <td>278.76</td>\n",
       "      <td>277.45</td>\n",
       "      <td>91.4</td>\n",
       "      <td>190.0</td>\n",
       "      <td>0.0</td>\n",
       "      <td>14066001_0_1</td>\n",
       "    </tr>\n",
       "    <tr>\n",
       "      <th>2</th>\n",
       "      <td>14066001</td>\n",
       "      <td>2016-01-01 02:00:00</td>\n",
       "      <td>2.26</td>\n",
       "      <td>278.27</td>\n",
       "      <td>277.02</td>\n",
       "      <td>91.7</td>\n",
       "      <td>181.0</td>\n",
       "      <td>0.0</td>\n",
       "      <td>14066001_0_2</td>\n",
       "    </tr>\n",
       "    <tr>\n",
       "      <th>3</th>\n",
       "      <td>14066001</td>\n",
       "      <td>2016-01-01 03:00:00</td>\n",
       "      <td>2.62</td>\n",
       "      <td>277.98</td>\n",
       "      <td>276.95</td>\n",
       "      <td>93.0</td>\n",
       "      <td>159.0</td>\n",
       "      <td>0.0</td>\n",
       "      <td>14066001_0_3</td>\n",
       "    </tr>\n",
       "    <tr>\n",
       "      <th>4</th>\n",
       "      <td>14066001</td>\n",
       "      <td>2016-01-01 04:00:00</td>\n",
       "      <td>2.99</td>\n",
       "      <td>277.32</td>\n",
       "      <td>276.72</td>\n",
       "      <td>95.9</td>\n",
       "      <td>171.0</td>\n",
       "      <td>0.0</td>\n",
       "      <td>14066001_0_4</td>\n",
       "    </tr>\n",
       "  </tbody>\n",
       "</table>\n",
       "</div>"
      ],
      "text/plain": [
       "   number_sta                 date    ff       t      td    hu     dd  precip  \\\n",
       "0    14066001  2016-01-01 00:00:00  3.05  279.28  277.97  91.4  200.0     0.0   \n",
       "1    14066001  2016-01-01 01:00:00  2.57  278.76  277.45  91.4  190.0     0.0   \n",
       "2    14066001  2016-01-01 02:00:00  2.26  278.27  277.02  91.7  181.0     0.0   \n",
       "3    14066001  2016-01-01 03:00:00  2.62  277.98  276.95  93.0  159.0     0.0   \n",
       "4    14066001  2016-01-01 04:00:00  2.99  277.32  276.72  95.9  171.0     0.0   \n",
       "\n",
       "             Id  \n",
       "0  14066001_0_0  \n",
       "1  14066001_0_1  \n",
       "2  14066001_0_2  \n",
       "3  14066001_0_3  \n",
       "4  14066001_0_4  "
      ]
     },
     "execution_count": 3,
     "metadata": {},
     "output_type": "execute_result"
    }
   ],
   "source": [
    "print(X_station_train.shape)\n",
    "X_station_train.head()"
   ]
  },
  {
   "cell_type": "code",
   "execution_count": 4,
   "metadata": {},
   "outputs": [],
   "source": [
    "# count the number of distinct stations in the dataset\n",
    "number_of_stations = X_station_train.number_sta.nunique()"
   ]
  },
  {
   "cell_type": "code",
   "execution_count": 5,
   "metadata": {},
   "outputs": [
    {
     "name": "stdout",
     "output_type": "stream",
     "text": [
      "(183747, 4)\n"
     ]
    },
    {
     "data": {
      "text/html": [
       "<div>\n",
       "<style scoped>\n",
       "    .dataframe tbody tr th:only-of-type {\n",
       "        vertical-align: middle;\n",
       "    }\n",
       "\n",
       "    .dataframe tbody tr th {\n",
       "        vertical-align: top;\n",
       "    }\n",
       "\n",
       "    .dataframe thead th {\n",
       "        text-align: right;\n",
       "    }\n",
       "</style>\n",
       "<table border=\"1\" class=\"dataframe\">\n",
       "  <thead>\n",
       "    <tr style=\"text-align: right;\">\n",
       "      <th></th>\n",
       "      <th>date</th>\n",
       "      <th>number_sta</th>\n",
       "      <th>Ground_truth</th>\n",
       "      <th>Id</th>\n",
       "    </tr>\n",
       "  </thead>\n",
       "  <tbody>\n",
       "    <tr>\n",
       "      <th>0</th>\n",
       "      <td>2016-01-02</td>\n",
       "      <td>14066001</td>\n",
       "      <td>3.4</td>\n",
       "      <td>14066001_0</td>\n",
       "    </tr>\n",
       "    <tr>\n",
       "      <th>1</th>\n",
       "      <td>2016-01-02</td>\n",
       "      <td>14126001</td>\n",
       "      <td>0.5</td>\n",
       "      <td>14126001_0</td>\n",
       "    </tr>\n",
       "    <tr>\n",
       "      <th>2</th>\n",
       "      <td>2016-01-02</td>\n",
       "      <td>14137001</td>\n",
       "      <td>3.4</td>\n",
       "      <td>14137001_0</td>\n",
       "    </tr>\n",
       "    <tr>\n",
       "      <th>3</th>\n",
       "      <td>2016-01-02</td>\n",
       "      <td>14216001</td>\n",
       "      <td>4.0</td>\n",
       "      <td>14216001_0</td>\n",
       "    </tr>\n",
       "    <tr>\n",
       "      <th>4</th>\n",
       "      <td>2016-01-02</td>\n",
       "      <td>14296001</td>\n",
       "      <td>13.3</td>\n",
       "      <td>14296001_0</td>\n",
       "    </tr>\n",
       "  </tbody>\n",
       "</table>\n",
       "</div>"
      ],
      "text/plain": [
       "         date  number_sta  Ground_truth          Id\n",
       "0  2016-01-02    14066001           3.4  14066001_0\n",
       "1  2016-01-02    14126001           0.5  14126001_0\n",
       "2  2016-01-02    14137001           3.4  14137001_0\n",
       "3  2016-01-02    14216001           4.0  14216001_0\n",
       "4  2016-01-02    14296001          13.3  14296001_0"
      ]
     },
     "execution_count": 5,
     "metadata": {},
     "output_type": "execute_result"
    }
   ],
   "source": [
    "print(Y_train.shape)\n",
    "Y_train.head()"
   ]
  },
  {
   "cell_type": "code",
   "execution_count": 6,
   "metadata": {},
   "outputs": [],
   "source": [
    "# make an array for all variables \n",
    "variable_list = X_station_train.columns.values\n",
    "arrays = []\n",
    "m = len(variable_list)\n",
    "for i in range(m):\n",
    "    arrays.append(X_station_train[variable_list[i]].values)\n",
    "    \n",
    "# array for each variable \n",
    "(number_sta, date, ff, t, \n",
    " td, hu, dd, precip, Id) = arrays"
   ]
  },
  {
   "cell_type": "code",
   "execution_count": 7,
   "metadata": {},
   "outputs": [
    {
     "data": {
      "text/html": [
       "<div>\n",
       "<style scoped>\n",
       "    .dataframe tbody tr th:only-of-type {\n",
       "        vertical-align: middle;\n",
       "    }\n",
       "\n",
       "    .dataframe tbody tr th {\n",
       "        vertical-align: top;\n",
       "    }\n",
       "\n",
       "    .dataframe thead th {\n",
       "        text-align: right;\n",
       "    }\n",
       "</style>\n",
       "<table border=\"1\" class=\"dataframe\">\n",
       "  <thead>\n",
       "    <tr style=\"text-align: right;\">\n",
       "      <th></th>\n",
       "      <th>number_sta</th>\n",
       "      <th>lat</th>\n",
       "      <th>lon</th>\n",
       "      <th>height_sta</th>\n",
       "    </tr>\n",
       "  </thead>\n",
       "  <tbody>\n",
       "    <tr>\n",
       "      <th>0</th>\n",
       "      <td>86118001</td>\n",
       "      <td>46.477</td>\n",
       "      <td>0.985</td>\n",
       "      <td>120.0</td>\n",
       "    </tr>\n",
       "    <tr>\n",
       "      <th>1</th>\n",
       "      <td>86149001</td>\n",
       "      <td>46.917</td>\n",
       "      <td>0.025</td>\n",
       "      <td>60.0</td>\n",
       "    </tr>\n",
       "    <tr>\n",
       "      <th>2</th>\n",
       "      <td>56081003</td>\n",
       "      <td>48.050</td>\n",
       "      <td>-3.660</td>\n",
       "      <td>165.0</td>\n",
       "    </tr>\n",
       "    <tr>\n",
       "      <th>3</th>\n",
       "      <td>53215001</td>\n",
       "      <td>47.790</td>\n",
       "      <td>-0.710</td>\n",
       "      <td>63.0</td>\n",
       "    </tr>\n",
       "    <tr>\n",
       "      <th>4</th>\n",
       "      <td>22135001</td>\n",
       "      <td>48.550</td>\n",
       "      <td>-3.380</td>\n",
       "      <td>148.0</td>\n",
       "    </tr>\n",
       "  </tbody>\n",
       "</table>\n",
       "</div>"
      ],
      "text/plain": [
       "   number_sta     lat    lon  height_sta\n",
       "0    86118001  46.477  0.985       120.0\n",
       "1    86149001  46.917  0.025        60.0\n",
       "2    56081003  48.050 -3.660       165.0\n",
       "3    53215001  47.790 -0.710        63.0\n",
       "4    22135001  48.550 -3.380       148.0"
      ]
     },
     "execution_count": 7,
     "metadata": {},
     "output_type": "execute_result"
    }
   ],
   "source": [
    "station_coords = pd.read_csv('./data/Other/stations_coordinates.csv')\n",
    "station_coords.head()"
   ]
  },
  {
   "cell_type": "code",
   "execution_count": 8,
   "metadata": {},
   "outputs": [],
   "source": [
    "# plot the stations on a map\n",
    "def plot_stations(station_coords):\n",
    "    \"\"\"Plots the stations on a map/\n",
    "\n",
    "    Args:\n",
    "        station_coords (data_frame): dataframe containing the necessary data.\n",
    "    \"\"\"\n",
    "    fig = px.scatter_geo(\n",
    "        station_coords,\n",
    "        lat = 'lat',\n",
    "        lon = 'lon',\n",
    "        hover_name = 'number_sta',\n",
    "    )\n",
    "    fig.update_layout(title = 'Stations')\n",
    "    return fig"
   ]
  },
  {
   "cell_type": "code",
   "execution_count": 11,
   "metadata": {},
   "outputs": [],
   "source": [
    "fig = plot_stations(station_coords)"
   ]
  },
  {
   "cell_type": "code",
   "execution_count": 12,
   "metadata": {},
   "outputs": [],
   "source": [
    "# HAS BEEN TESTED, WORKS AS INTENDED\n",
    "def k_closest_stations(number_station, k):\n",
    "    \"\"\"Get the closest station to the one given as input.\n",
    "\n",
    "    Args:\n",
    "        number_station (integer): number of the station\n",
    "        k (integer): number of the closest stations to return\n",
    "    Returns:\n",
    "        closest_stations (integer): list of the closest stations\n",
    "    \"\"\"\n",
    "    # get the coordinates of the station given as input\n",
    "    station_lat = station_coords[station_coords['number_sta'] == number_station]['lat'].values[0]\n",
    "    station_lon = station_coords[station_coords['number_sta'] == number_station]['lon'].values[0]\n",
    "    # calculate the distance between the station given as input and all the other stations\n",
    "    stations_and_id = []\n",
    "    for i in range(len(station_coords)):\n",
    "        if station_coords['number_sta'].values[i] != number_station:\n",
    "            lat = station_coords['lat'].values[i]\n",
    "            lon = station_coords['lon'].values[i]\n",
    "            distance = np.sqrt((station_lat - lat)**2 + (station_lon - lon)**2)\n",
    "            stations_and_id.append([station_coords['number_sta'].values[i], distance])\n",
    "    stations_and_id = np.array(stations_and_id)\n",
    "    #sort the stations by distance\n",
    "    stations_and_id = stations_and_id[stations_and_id[:,1].argsort()]\n",
    "    closest_stations = stations_and_id[:k,0].astype(int)\n",
    "    return closest_stations"
   ]
  },
  {
   "cell_type": "code",
   "execution_count": 13,
   "metadata": {},
   "outputs": [],
   "source": [
    "# HAS BEEN TESTED, WORKS AS INTENDED\n",
    "def get_values_for_station(station_number, year, month, day):\n",
    "    \"\"\"Get the values of all variables of a station,\n",
    "       data matching the date in the input.\n",
    "       Please create columns for the year, dmonth and day.\n",
    "\n",
    "    Args:\n",
    "        station_number (integer): number of the station\n",
    "        year, month, day (integer): year, month and day of the date\n",
    "    Returns:\n",
    "        df (dataframe): dataframe containing the values of \n",
    "        all variables of a station at a certain date\n",
    "    \"\"\"\n",
    "    df = X_train[\n",
    "            (X_train['number_sta'] == station_number) &\n",
    "            (X_train['year'] == year) &\n",
    "            (X_train['month'] == month) &\n",
    "            (X_train['day'] == day)\n",
    "        ]\n",
    "    return df"
   ]
  },
  {
   "cell_type": "markdown",
   "metadata": {},
   "source": [
    "## TODO:\n",
    "- [ ] create a function that checks for a given station the values of the variables over one day, returns a boolean that determines whether there are any missing values (can use the previous function's return value)\n",
    "- [ ] create a function that interpolates the missing values for a given station using the k nearnest neighbors (k_closest_stations)\n",
    "- [ ] create a function that interpolates the missing values for all stations using the k nearnest neighbors (k_closest_stations)\n"
   ]
  },
  {
   "cell_type": "markdown",
   "metadata": {},
   "source": []
  }
 ],
 "metadata": {
  "interpreter": {
   "hash": "fd89ae56bbd7d9062514d7f231c1f4d4883326461d1529d782bc6e31d7c57d9b"
  },
  "kernelspec": {
   "display_name": "Python 3.8.11 64-bit ('base': conda)",
   "language": "python",
   "name": "python3"
  },
  "language_info": {
   "codemirror_mode": {
    "name": "ipython",
    "version": 3
   },
   "file_extension": ".py",
   "mimetype": "text/x-python",
   "name": "python",
   "nbconvert_exporter": "python",
   "pygments_lexer": "ipython3",
   "version": "3.8.11"
  },
  "orig_nbformat": 4
 },
 "nbformat": 4,
 "nbformat_minor": 2
}
